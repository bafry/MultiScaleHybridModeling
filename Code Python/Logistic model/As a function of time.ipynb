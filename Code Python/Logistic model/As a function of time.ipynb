Chini Hassan
{
 "cells": [
  {
   "cell_type": "markdown",
   "id": "2fa9120c",
   "metadata": {},
   "source": [
    "# Description"
   ]
  },
  {
   "cell_type": "code",
   "execution_count": 2,
   "id": "4c7e7528",
   "metadata": {},
   "outputs": [],
   "source": [
    "\n",
    "#     Logistic model\n",
    "#  mean plant weight as a function of time (t) for different densities d=180, d= 480, d=1920, d=7680\n",
    "#  \n",
    "#    \n",
    "#\n"
   ]
  },
  {
   "cell_type": "markdown",
   "id": "5d163304",
   "metadata": {},
   "source": [
    "# d = 180"
   ]
  },
  {
   "cell_type": "code",
   "execution_count": 9,
   "id": "6bec4a71",
   "metadata": {},
   "outputs": [
    {
     "name": "stdout",
     "output_type": "stream",
     "text": [
      "Using matplotlib backend: TkAgg\n",
      "Paramètres optimaux : w0 = 0.00019677, k = 0.39959729, r = 0.29245999\n",
      "Coefficient de détermination : R2 = 0.9999\n",
      "Paramètres optimaux : w0 = 0.00080055, k = 5.00000000, r = 0.10466856\n",
      "Coefficient de détermination : R2 = 0.9984\n",
      "Paramètres optimaux : w0 = 0.00010000, k = 4.81221427, r = 0.21294859\n",
      "Coefficient de détermination : R2 = 1.0000\n"
     ]
    }
   ],
   "source": [
    "%reset -f\n",
    "import numpy as np\n",
    "from scipy.optimize import minimize\n",
    "import matplotlib.pyplot as plt\n",
    "%matplotlib\n",
    "plt.ion()\n",
    "plt.figure()\n",
    "\n",
    "time=np.array([[13,19,22,27],[19,34,42,50],[16,23,35,43]])\n",
    "t=np.linspace(0,60,1000)\n",
    "density=np.array([180,480,1920,7680])\n",
    "date=['03/09/81','14/10/81','16/03/82']\n",
    "\n",
    "def logistic(t, w0, k, r):\n",
    "    return k / (1 + ((k / w0)-1) * np.exp(-r * t))\n",
    "\n",
    "weights=np.array([  \n",
    "        [0.009687573, 0.044685234, 0.094008898, 0.227650969],\n",
    "        [0.004384217, 0.031238793, 0.061785221, 0.146166469],\n",
    "        [0.003410082, 0.014033932, 0.166518499, 0.791899893]])\n",
    "\n",
    "\n",
    "for i in range(0,3):\n",
    "    \n",
    "    def objective(params):\n",
    "        w0, k, r = params\n",
    "        y_pred = np.array([logistic(time[i][j], w0, k, r) for j in range(4) ])\n",
    "        y_obs = weights[i]\n",
    "        return sum((y_obs - y_pred) ** 2)\n",
    "\n",
    "    bounds = [(0.0001, 0.003), (0.01, 5), (0.03,0.4)]\n",
    "    params0 = [0.0001, 0.01, 0.03]\n",
    "    result = minimize(objective, params0, bounds=bounds)\n",
    "    print(\"Paramètres optimaux : w0 = %.8f, k = %.8f, r = %.8f\" % tuple(result.x))\n",
    "\n",
    "    y_obs = weights[i]\n",
    "\n",
    "    # Calcul de la somme des carrés totale\n",
    "    y_mean = np.mean(y_obs)\n",
    "    SST = sum((y_obs - y_mean) ** 2)\n",
    "\n",
    "    # Calcul de la somme des carrés résiduels\n",
    "    w0_opt, k_opt, r_opt = result.x\n",
    "    y_pred = np.array([logistic(time[i][j], w0_opt, k_opt, r_opt) for j in range(4)])\n",
    "    SSR = sum((y_obs - y_pred) ** 2)\n",
    "\n",
    "    # Calcul du coefficient de détermination\n",
    "    R2 = 1 - (SSR / SST)\n",
    "    print(\"Coefficient de détermination : R2 = %.4f\" % R2)\n",
    "    plt.plot()\n",
    "    plt.plot(t, logistic(t,w0_opt, k_opt, r_opt),ls=\"-\",label=('date=%s'%date[i]),lw=1)\n",
    "    plt.scatter(time[i], y_obs)\n",
    "    plt.xlabel('days from sowing')\n",
    "    plt.ylabel('mean plant dry weight')\n",
    "    plt.title('density=180')\n",
    "    plt.legend()\n",
    "plt.subplots_adjust(left=0.145, bottom=0.108, right=0.988, top=0.94, wspace=0.246)\n",
    "plt.show()\n"
   ]
  },
  {
   "cell_type": "markdown",
   "id": "6563f146",
   "metadata": {},
   "source": [
    "# d = 480"
   ]
  },
  {
   "cell_type": "code",
   "execution_count": 10,
   "id": "e600f02c",
   "metadata": {
    "scrolled": true
   },
   "outputs": [
    {
     "name": "stdout",
     "output_type": "stream",
     "text": [
      "Using matplotlib backend: TkAgg\n",
      "Paramètres optimaux : w0 = 0.00023247, k = 0.27507314, r = 0.28234152\n",
      "Coefficient de détermination : R2 = 0.9999\n",
      "Paramètres optimaux : w0 = 0.00013114, k = 0.16884428, r = 0.15487936\n",
      "Coefficient de détermination : R2 = 0.9890\n",
      "Paramètres optimaux : w0 = 0.00010000, k = 1.45025033, r = 0.20965049\n",
      "Coefficient de détermination : R2 = 1.0000\n"
     ]
    }
   ],
   "source": [
    "%reset -f\n",
    "import numpy as np\n",
    "from scipy.optimize import minimize\n",
    "import matplotlib.pyplot as plt\n",
    "%matplotlib\n",
    "plt.ion()\n",
    "\n",
    "time=np.array([[13,19,22,27],[19,34,42,50],[16,23,35,43]])\n",
    "t=np.linspace(0,60,1000)\n",
    "density=np.array([180,480,1920,7680])\n",
    "date=['03/09/81','14/10/81','16/03/82']\n",
    "def logistic(t, w0, k, r):\n",
    "    return k / (1 + ((k / w0)-1) * np.exp(-r * t))\n",
    "\n",
    "weights=np.array([  \n",
    "                    [0.00950582, 0.041555591, 0.081858259, 0.174277332],\n",
    "                    [0.004358162, 0.02856206, 0.053209048, 0.109509946],\n",
    "                    [0.003427019, 0.013765618, 0.138878128, 0.524883641]])\n",
    "\n",
    "plt.figure()\n",
    "for i in range(0,3):\n",
    "    \n",
    "    def objective(params):\n",
    "        w0, k, r = params\n",
    "        y_pred = np.array([logistic(time[i][j], w0, k, r) for j in range(4)])\n",
    "        y_obs = weights[i]\n",
    "        return sum((y_obs - y_pred) ** 2)\n",
    "\n",
    "\n",
    "    bounds = [(0.0001, 0.003), (0.01, 5), (0.03,0.4)]\n",
    "    params0 = [0.0001, 0.01, 0.03]\n",
    "    result = minimize(objective, params0, bounds=bounds)\n",
    "    print(\"Paramètres optimaux : w0 = %.8f, k = %.8f, r = %.8f\" % tuple(result.x))\n",
    "\n",
    "    y_obs = weights[i]\n",
    "\n",
    "    # Calcul de la somme des carrés totale\n",
    "    y_mean = np.mean(y_obs)\n",
    "    SST = sum((y_obs - y_mean) ** 2)\n",
    "\n",
    "    # Calcul de la somme des carrés résiduels\n",
    "    w0_opt, k_opt, r_opt = result.x\n",
    "    y_pred = np.array([logistic(time[i][j], w0_opt, k_opt, r_opt) for j in range(4)])\n",
    "    SSR = sum((y_obs - y_pred) ** 2)\n",
    "\n",
    "    # Calcul du coefficient de détermination\n",
    "    R2 = 1 - (SSR / SST)\n",
    "    print(\"Coefficient de détermination : R2 = %.4f\" % R2)\n",
    "    plt.plot()\n",
    "    plt.plot(t, logistic(t,w0_opt, k_opt, r_opt),ls=\"-\",label=('date=%s'%date[i]),lw=1)\n",
    "    plt.scatter(time[i], y_obs)\n",
    "plt.xlabel('days from sowing')\n",
    "plt.title('density=480')\n",
    "plt.subplots_adjust(left=0.145, bottom=0.108, right=0.988, top=0.94, wspace=0.246)\n",
    "plt.show()\n",
    "\n"
   ]
  },
  {
   "cell_type": "markdown",
   "id": "aa2caa52",
   "metadata": {},
   "source": [
    "# d = 1920"
   ]
  },
  {
   "cell_type": "code",
   "execution_count": 11,
   "id": "096ebd54",
   "metadata": {},
   "outputs": [
    {
     "name": "stdout",
     "output_type": "stream",
     "text": [
      "Using matplotlib backend: TkAgg\n",
      "Paramètres optimaux : w0 = 0.00156220, k = 0.20738290, r = 0.16610061\n",
      "Coefficient de détermination : R2 = 0.9893\n",
      "Paramètres optimaux : w0 = 0.00089653, k = 0.08793683, r = 0.09657405\n",
      "Coefficient de détermination : R2 = 0.9967\n",
      "Paramètres optimaux : w0 = 0.00027697, k = 0.47048587, r = 0.16602429\n",
      "Coefficient de détermination : R2 = 1.0000\n"
     ]
    }
   ],
   "source": [
    "%reset -f\n",
    "import numpy as np\n",
    "from scipy.optimize import minimize\n",
    "import matplotlib.pyplot as plt\n",
    "%matplotlib\n",
    "plt.ion()\n",
    "plt.figure()\n",
    "\n",
    "time=np.array([[13,19,22,27],[19,34,42,50],[16,23,35,43]])\n",
    "t=np.linspace(0,60,1000)\n",
    "density=np.array([180,480,1920,7680])\n",
    "date=['03/09/81','14/10/81','16/03/82']\n",
    "def logistic(t, w0, k, r):\n",
    "    return k / (1 + ((k / w0)-1) * np.exp(-r * t))\n",
    "\n",
    "weights=np.array([  \n",
    "                    [0.008720495, 0.031100293, 0.050517334, 0.081998265],\n",
    "                    [0.004237288, 0.020238212, 0.031933032, 0.049692016],\n",
    "                    [0.003510715, 0.012608524, 0.077294031, 0.200453187]])\n",
    "\n",
    "\n",
    "for i in range(0,3):\n",
    "    \n",
    "    def objective(params):\n",
    "        w0, k, r = params\n",
    "        y_pred = np.array([logistic(time[i][j], w0, k, r) for j in range(4)])\n",
    "        y_obs = weights[i]\n",
    "        return sum((y_obs - y_pred) ** 2)\n",
    "\n",
    "    bounds = [(0.0001, 0.003), (0.01, 5), (0.03,0.4)]\n",
    "    params0 = [0.0001, 0.01, 0.03]\n",
    "    result = minimize(objective, params0, bounds=bounds)\n",
    "    print(\"Paramètres optimaux : w0 = %.8f, k = %.8f, r = %.8f\" % tuple(result.x))\n",
    "\n",
    "    y_obs = weights[i]\n",
    "\n",
    "    # Calcul de la somme des carrés totale\n",
    "    y_mean = np.mean(y_obs)\n",
    "    SST = sum((y_obs - y_mean) ** 2)\n",
    "\n",
    "    # Calcul de la somme des carrés résiduels\n",
    "    w0_opt, k_opt, r_opt = result.x\n",
    "    y_pred = np.array([logistic(time[i][0], w0_opt, k_opt, r_opt), logistic(time[i][1], w0_opt, k_opt, r_opt), logistic(time[i][2], w0_opt, k_opt, r_opt), logistic(time[i][3], w0_opt, k_opt, r_opt)])\n",
    "    SSR = sum((y_obs - y_pred) ** 2)\n",
    "\n",
    "    # Calcul du coefficient de détermination\n",
    "    R2 = 1 - (SSR / SST)\n",
    "    print(\"Coefficient de détermination : R2 = %.4f\" % R2)\n",
    "    plt.plot()\n",
    "    plt.plot(t, logistic(t,w0_opt, k_opt, r_opt),ls=\"-\",label=('date=%s'%date[i]),lw=1)\n",
    "    plt.scatter(time[i], y_obs)\n",
    "plt.xlabel('days from sowing')\n",
    "plt.title('density=1920')\n",
    "plt.subplots_adjust(left=0.145, bottom=0.108, right=0.988, top=0.94, wspace=0.246)\n",
    "plt.show()\n",
    "\n",
    "\n",
    "\n"
   ]
  },
  {
   "cell_type": "markdown",
   "id": "a8fd307f",
   "metadata": {},
   "source": [
    "# density = 7680"
   ]
  },
  {
   "cell_type": "code",
   "execution_count": 12,
   "id": "2851930f",
   "metadata": {},
   "outputs": [
    {
     "name": "stdout",
     "output_type": "stream",
     "text": [
      "Using matplotlib backend: TkAgg\n",
      "Paramètres optimaux : w0 = 0.00262264, k = 0.11612864, r = 0.09568952\n",
      "Coefficient de détermination : R2 = 0.9601\n",
      "Paramètres optimaux : w0 = 0.00172716, k = 0.03760220, r = 0.05441772\n",
      "Coefficient de détermination : R2 = 0.9887\n",
      "Paramètres optimaux : w0 = 0.00090924, k = 0.42861094, r = 0.09982014\n",
      "Coefficient de détermination : R2 = 0.9996\n"
     ]
    }
   ],
   "source": [
    "%reset -f\n",
    "import numpy as np\n",
    "from scipy.optimize import minimize\n",
    "import matplotlib.pyplot as plt\n",
    "%matplotlib\n",
    "plt.ion()\n",
    "\n",
    "\n",
    "\n",
    "time=np.array([[13,19,22,27],[19,34,42,50],[16,23,35,43]])\n",
    "t=np.linspace(0,60,1000)\n",
    "density=np.array([180,480,1920,7680])\n",
    "date=['03/09/81','14/10/81','16/03/82']\n",
    "\n",
    "def logistic(t, w0, k, r):\n",
    "    return k / (1 + ((k / w0)-1) * np.exp(-r * t))\n",
    "\n",
    "weights=np.array([   \n",
    "                    [0.006554492, 0.01550061, 0.019955708, 0.026298504],\n",
    "                    [0.003814147, 0.009344792, 0.012284636, 0.015602225],\n",
    "                    [0.003890805, 0.009435913, 0.027866162, 0.057727578]])\n",
    "\n",
    "plt.figure()\n",
    "for i in range(0,3):\n",
    "    \n",
    "    def objective(params):\n",
    "        w0, k, r = params\n",
    "        y_pred = np.array([logistic(time[i][0], w0, k, r), logistic(time[i][1], w0, k, r), logistic(time[i][2], w0, k, r), logistic(time[i][3], w0, k, r)])\n",
    "        y_obs = weights[i]\n",
    "        return sum((y_obs - y_pred) ** 2)\n",
    "\n",
    "    bounds = [(0.0001, 0.003), (0.01, 5), (0.03,0.4)]\n",
    "    params0 = [0.0001, 0.01, 0.03]\n",
    "    result = minimize(objective, params0, bounds=bounds)\n",
    "    print(\"Paramètres optimaux : w0 = %.8f, k = %.8f, r = %.8f\" % tuple(result.x))\n",
    "\n",
    "    y_obs = weights[i]\n",
    "\n",
    "    # Calcul de la somme des carrés totale\n",
    "    y_mean = np.mean(y_obs)\n",
    "    SST = sum((y_obs - y_mean) ** 2)\n",
    "\n",
    "    # Calcul de la somme des carrés résiduels\n",
    "    \n",
    "    w0_opt, k_opt, r_opt = result.x\n",
    "    y_pred = np.array([logistic(time[i][0], w0_opt, k_opt, r_opt), logistic(time[i][1], w0_opt, k_opt, r_opt), logistic(time[i][2], w0_opt, k_opt, r_opt), logistic(time[i][3], w0_opt, k_opt, r_opt)])\n",
    "    SSR = sum((y_obs - y_pred) ** 2)\n",
    "\n",
    "    # Calcul du coefficient de détermination\n",
    "    R2 = 1 - (SSR / SST)\n",
    "    plt.plot()\n",
    "    print(\"Coefficient de détermination : R2 = %.4f\" % R2)\n",
    "    plt.plot(t, logistic(t,w0_opt, k_opt, r_opt),ls=\"-\",label=('date=%s'%date[i]),lw=1)\n",
    "    plt.scatter(time[i], y_obs)\n",
    "plt.xlabel('days from sowing')\n",
    "plt.title('density=7680')\n",
    "plt.subplots_adjust(left=0.145, bottom=0.108, right=0.988, top=0.94, wspace=0.246)\n",
    "plt.ticklabel_format(axis='y', style='sci', scilimits=(0,0))\n",
    "plt.show()\n"
   ]
  },
  {
   "cell_type": "code",
   "execution_count": null,
   "id": "b28da8ae",
   "metadata": {},
   "outputs": [],
   "source": []
  },
  {
   "cell_type": "code",
   "execution_count": null,
   "id": "e9248855",
   "metadata": {},
   "outputs": [],
   "source": []
  },
  {
   "cell_type": "code",
   "execution_count": null,
   "id": "97089bbd",
   "metadata": {},
   "outputs": [],
   "source": []
  }
 ],
 "metadata": {
  "kernelspec": {
   "display_name": "Python 3 (ipykernel)",
   "language": "python",
   "name": "python3"
  },
  "language_info": {
   "codemirror_mode": {
    "name": "ipython",
    "version": 3
   },
   "file_extension": ".py",
   "mimetype": "text/x-python",
   "name": "python",
   "nbconvert_exporter": "python",
   "pygments_lexer": "ipython3",
   "version": "3.9.12"
  }
 },
 "nbformat": 4,
 "nbformat_minor": 5
}
